{
  "nbformat": 4,
  "nbformat_minor": 0,
  "metadata": {
    "colab": {
      "name": "Sort_BigO_1511.ipynb",
      "provenance": [],
      "authorship_tag": "ABX9TyN16/0e8bOuaZYnHMrp1Ovp",
      "include_colab_link": true
    },
    "kernelspec": {
      "name": "python3",
      "display_name": "Python 3"
    },
    "language_info": {
      "name": "python"
    }
  },
  "cells": [
    {
      "cell_type": "markdown",
      "metadata": {
        "id": "view-in-github",
        "colab_type": "text"
      },
      "source": [
        "<a href=\"https://colab.research.google.com/github/jorgeordonez2209/daa_1511_2021/blob/main/18oct_2021_Sort_BigO_1511.ipynb\" target=\"_parent\"><img src=\"https://colab.research.google.com/assets/colab-badge.svg\" alt=\"Open In Colab\"/></a>"
      ]
    },
    {
      "cell_type": "markdown",
      "metadata": {
        "id": "VWyA_r4vKBj1"
      },
      "source": [
        "# Bubble sort"
      ]
    },
    {
      "cell_type": "code",
      "metadata": {
        "colab": {
          "base_uri": "https://localhost:8080/"
        },
        "id": "rm--YyCvKKP8",
        "outputId": "b3e56255-5441-453b-d7a2-7c8d04f5e61e"
      },
      "source": [
        "#info = [8, 5, 9, 3]\n",
        "info = [6568, 5, 26, 789, 619, 1234, 45, 3, 6, 24, 73, 64, 159, 673, 4567, 0, 179]\n",
        "\n",
        "def burbuja(data): #M O(n)  P O(1)\n",
        "  n = len(data) #M O(1)  P O(1)\n",
        "  for tope in range(n-1, 0, -1): #range(<inicio>, <stop>, <incremento>) #M O(1)  P O(na)\n",
        "    for pivote in range(tope): #M O(1)  P O(na)\n",
        "      if data[pivote] > data[pivote + 1]: #M O()  P O()\n",
        "        data[pivote], data[pivote + 1] = data[pivote + 1], data[pivote] # intercambio a, b = b, a #M O(0)  P O(2n^2)\n",
        "        #print(f\"--->\"{data}\"<---\")  \n",
        "  return data #M O(0)  P O(1)\n",
        "\n",
        "burbuja(info)\n",
        "##M O(n + 3)  P O(3 + 2n^2)\n",
        "#Memoria O(n)\n",
        "#Procesamiento O(n^2)"
      ],
      "execution_count": null,
      "outputs": [
        {
          "output_type": "execute_result",
          "data": {
            "text/plain": [
              "[0, 3, 5, 6, 24, 26, 45, 64, 73, 159, 179, 619, 673, 789, 1234, 4567, 6568]"
            ]
          },
          "metadata": {},
          "execution_count": 18
        }
      ]
    },
    {
      "cell_type": "markdown",
      "metadata": {
        "id": "-JYK75LvXaG_"
      },
      "source": [
        "# Selection sort"
      ]
    },
    {
      "cell_type": "code",
      "metadata": {
        "colab": {
          "base_uri": "https://localhost:8080/"
        },
        "id": "hYKAqOdxXdrm",
        "outputId": "269ba29d-3085-4fb1-9366-e652339b67ee"
      },
      "source": [
        "def selection_sort(data): #M O(n)  P O(1)\n",
        "  for pivote in range(len(data)): #M O(1)  P O(na)\n",
        "    min = pivote # posicion del menor #M O(1)  P O(1 * n)\n",
        "    for index in range (pivote, len(data), 1): #M O(1)  P O(na)\n",
        "      if data[index] < data[min]: #M O(0)  P O(na)\n",
        "        min = index #M O(0)  P O(n^2)\n",
        "    data[pivote], data[min] = data[min], data[pivote]  #M O(0)  P O(2 * n)\n",
        "    #print(f\"--->\"{data}\"<---\")  #M O(0)  P O(0)\n",
        "  return data #M O(0)  P O(1)\n",
        "#M O(n + 1 + 1 + 1)  P O(1 + n + n + n^2 + 2n + 1)\n",
        "#M O(n)  P O(1)\n",
        "#info = [8, 5, 9, 3]\n",
        "info = [6568, 5, 26, 789, 619, 1234, 45, 3, 6, 24, 73, 64, 159, 673, 4567, 0, 179]\n",
        "\n",
        "print(selection_sort(info))"
      ],
      "execution_count": null,
      "outputs": [
        {
          "output_type": "stream",
          "name": "stdout",
          "text": [
            "[0, 3, 5, 6, 24, 26, 45, 64, 73, 159, 179, 619, 673, 789, 1234, 4567, 6568]\n"
          ]
        }
      ]
    },
    {
      "cell_type": "markdown",
      "metadata": {
        "id": "9xNrhLwpzto6"
      },
      "source": [
        "# Insertion sort\n",
        "Como cuando juegas cartas"
      ]
    },
    {
      "cell_type": "code",
      "metadata": {
        "id": "_skuz6NBz6GJ",
        "colab": {
          "base_uri": "https://localhost:8080/"
        },
        "outputId": "e303730d-bf11-4893-dabc-268e52121ab5"
      },
      "source": [
        "def insertion_sort(data): #M O(n)  P O(1)\n",
        "  print(f\"original {data}\") #M O(0)  P O(1)\n",
        "  for pivote in range(1, len(data), 1): #M O(1)  P O(na)\n",
        "    for index in range(0, pivote + 1, 1): #M O(1)  P O(na)\n",
        "      if data[pivote] < data[index]: #M O(0)  P O(na)\n",
        "        tmp = data[pivote] #M O(1)  P O(n)\n",
        "        # recorrer a la derecha\n",
        "        for i in range(pivote, index, -1): #M O(1)  P O(na)\n",
        "          data[i] = data[i -1] #M O(0)  P O(n * m)\n",
        "        data[index] = tmp #M O(0)  P O(n)\n",
        "    print(f\"pasada {pivote} ---> {data} <---\") #M O(0)  P O(1)\n",
        "  return data #M O(0)  P O(1)\n",
        "#M O(n + 4)  P O(4 + 2n + n*m)\n",
        "#M O(n)  P O(n^2)\n",
        "\n",
        "info = [10, 51, 2, 18, 4, 31, 12, 5]\n",
        "\n",
        "print(insertion_sort(info))\n"
      ],
      "execution_count": null,
      "outputs": [
        {
          "output_type": "stream",
          "name": "stdout",
          "text": [
            "original [10, 51, 2, 18, 4, 31, 12, 5]\n",
            "pasada 1 ---> [10, 51, 2, 18, 4, 31, 12, 5] <---\n",
            "pasada 2 ---> [2, 10, 51, 18, 4, 31, 12, 5] <---\n",
            "pasada 3 ---> [2, 10, 18, 51, 4, 31, 12, 5] <---\n",
            "pasada 4 ---> [2, 4, 10, 18, 51, 31, 12, 5] <---\n",
            "pasada 5 ---> [2, 4, 10, 18, 31, 51, 12, 5] <---\n",
            "pasada 6 ---> [2, 4, 10, 12, 18, 31, 51, 5] <---\n",
            "pasada 7 ---> [2, 4, 5, 10, 12, 18, 31, 51] <---\n",
            "[2, 4, 5, 10, 12, 18, 31, 51]\n"
          ]
        }
      ]
    },
    {
      "cell_type": "markdown",
      "metadata": {
        "id": "RPnEmFjxtnSX"
      },
      "source": [
        "Merge sort"
      ]
    },
    {
      "cell_type": "code",
      "metadata": {
        "id": "-5u6Aiut_RrS"
      },
      "source": [
        "def mergeSort(data):\n",
        "  tam = len(data)\n",
        "  #print(f\"recibido: {data}\")\n",
        "  if tam == 1: #caso base recursividad\n",
        "    return data\n",
        "\n",
        "  mid = tam // 2\n",
        "  I = mergeSort(data[0:mid:1])\n",
        "  D = mergeSort(data[mid::1])\n",
        "  #print(f\"{I}\\t\\t {D}\")\n",
        "  return merge(I, D)\n",
        "\n",
        "def merge(I, D):\n",
        "  resultado = [] * (len(I + len(D))\n",
        "  i = 0 \n",
        "  d = 0\n",
        "  r = 0\n",
        "  while i < len(I) and d < len(D):\n",
        "    "
      ],
      "execution_count": 26,
      "outputs": []
    },
    {
      "cell_type": "code",
      "metadata": {
        "colab": {
          "base_uri": "https://localhost:8080/"
        },
        "id": "E2yowdZMzPEH",
        "outputId": "c3aafdb8-a94c-41f8-9f8a-6b5a438ae722"
      },
      "source": [
        "numeros = [10, 51, 2, 18, 4, 31, 12, 5]\n",
        "mergeSort(numeros)"
      ],
      "execution_count": 27,
      "outputs": [
        {
          "output_type": "stream",
          "name": "stdout",
          "text": [
            "recibido: [10, 51, 2, 18, 4, 31, 12, 5]\n",
            "recibido: [10, 51, 2, 18]\n",
            "recibido: [10, 51]\n",
            "recibido: [10]\n",
            "recibido: [51]\n",
            "[51]\t\t [10]\n",
            "recibido: [2, 18]\n",
            "recibido: [2]\n",
            "recibido: [18]\n",
            "[18]\t\t [2]\n",
            "None\t\t None\n",
            "recibido: [4, 31, 12, 5]\n",
            "recibido: [4, 31]\n",
            "recibido: [4]\n",
            "recibido: [31]\n",
            "[31]\t\t [4]\n",
            "recibido: [12, 5]\n",
            "recibido: [12]\n",
            "recibido: [5]\n",
            "[5]\t\t [12]\n",
            "None\t\t None\n",
            "None\t\t None\n"
          ]
        }
      ]
    },
    {
      "cell_type": "code",
      "metadata": {
        "colab": {
          "base_uri": "https://localhost:8080/"
        },
        "id": "195DZ36YwwRe",
        "outputId": "0c6082bd-9fdb-4a39-a87c-40fca0cab96e"
      },
      "source": [
        "frutas = ['peras', 'manzanas', 'kiwi', 'limon', 'aguacate', 'uva', 'sandia']\n",
        "print(frutas)\n",
        "# Sirve para sacar rebanadas de un iterable\n",
        "# frutas[<ini>:<stop>:<incremento>]\n",
        "# NOTA: el stop´no se incluye, se incluye el valor previo\n",
        "\n",
        "print(frutas[0:3:1])\n",
        "print(frutas[2:6:1])\n",
        "print(len(frutas))\n",
        "mid = len(frutas) // 2\n",
        "print(mid)\n",
        "print(frutas[0:mid:1])\n",
        "print(frutas[mid::1])\n"
      ],
      "execution_count": 10,
      "outputs": [
        {
          "output_type": "stream",
          "name": "stdout",
          "text": [
            "['peras', 'manzanas', 'kiwi', 'limon', 'aguacate', 'uva', 'sandia']\n",
            "['peras', 'manzanas', 'kiwi']\n",
            "['kiwi', 'limon', 'aguacate', 'uva']\n",
            "7\n",
            "3\n",
            "['peras', 'manzanas', 'kiwi']\n",
            "['limon', 'aguacate', 'uva', 'sandia']\n"
          ]
        }
      ]
    }
  ]
}