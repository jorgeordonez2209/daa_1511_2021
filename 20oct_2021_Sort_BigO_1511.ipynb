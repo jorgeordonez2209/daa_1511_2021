{
  "nbformat": 4,
  "nbformat_minor": 0,
  "metadata": {
    "colab": {
      "name": "Sort_BigO_1511.ipynb",
      "provenance": [],
      "authorship_tag": "ABX9TyOZWv3w+t72hIX+rr99kc54",
      "include_colab_link": true
    },
    "kernelspec": {
      "name": "python3",
      "display_name": "Python 3"
    },
    "language_info": {
      "name": "python"
    }
  },
  "cells": [
    {
      "cell_type": "markdown",
      "metadata": {
        "id": "view-in-github",
        "colab_type": "text"
      },
      "source": [
        "<a href=\"https://colab.research.google.com/github/jorgeordonez2209/daa_1511_2021/blob/main/20oct_2021_Sort_BigO_1511.ipynb\" target=\"_parent\"><img src=\"https://colab.research.google.com/assets/colab-badge.svg\" alt=\"Open In Colab\"/></a>"
      ]
    },
    {
      "cell_type": "markdown",
      "metadata": {
        "id": "VWyA_r4vKBj1"
      },
      "source": [
        "# Bubble sort"
      ]
    },
    {
      "cell_type": "code",
      "metadata": {
        "colab": {
          "base_uri": "https://localhost:8080/"
        },
        "id": "rm--YyCvKKP8",
        "outputId": "b3e56255-5441-453b-d7a2-7c8d04f5e61e"
      },
      "source": [
        "#info = [8, 5, 9, 3]\n",
        "info = [6568, 5, 26, 789, 619, 1234, 45, 3, 6, 24, 73, 64, 159, 673, 4567, 0, 179]\n",
        "\n",
        "def burbuja(data): #M O(n)  P O(1)\n",
        "  n = len(data) #M O(1)  P O(1)\n",
        "  for tope in range(n-1, 0, -1): #range(<inicio>, <stop>, <incremento>) #M O(1)  P O(na)\n",
        "    for pivote in range(tope): #M O(1)  P O(na)\n",
        "      if data[pivote] > data[pivote + 1]: #M O()  P O()\n",
        "        data[pivote], data[pivote + 1] = data[pivote + 1], data[pivote] # intercambio a, b = b, a #M O(0)  P O(2n^2)\n",
        "        #print(f\"--->\"{data}\"<---\")  \n",
        "  return data #M O(0)  P O(1)\n",
        "\n",
        "burbuja(info)\n",
        "##M O(n + 3)  P O(3 + 2n^2)\n",
        "#Memoria O(n)\n",
        "#Procesamiento O(n^2)"
      ],
      "execution_count": null,
      "outputs": [
        {
          "output_type": "execute_result",
          "data": {
            "text/plain": [
              "[0, 3, 5, 6, 24, 26, 45, 64, 73, 159, 179, 619, 673, 789, 1234, 4567, 6568]"
            ]
          },
          "metadata": {},
          "execution_count": 18
        }
      ]
    },
    {
      "cell_type": "markdown",
      "metadata": {
        "id": "-JYK75LvXaG_"
      },
      "source": [
        "# Selection sort"
      ]
    },
    {
      "cell_type": "code",
      "metadata": {
        "colab": {
          "base_uri": "https://localhost:8080/"
        },
        "id": "hYKAqOdxXdrm",
        "outputId": "269ba29d-3085-4fb1-9366-e652339b67ee"
      },
      "source": [
        "def selection_sort(data): #M O(n)  P O(1)\n",
        "  for pivote in range(len(data)): #M O(1)  P O(na)\n",
        "    min = pivote # posicion del menor #M O(1)  P O(1 * n)\n",
        "    for index in range (pivote, len(data), 1): #M O(1)  P O(na)\n",
        "      if data[index] < data[min]: #M O(0)  P O(na)\n",
        "        min = index #M O(0)  P O(n^2)\n",
        "    data[pivote], data[min] = data[min], data[pivote]  #M O(0)  P O(2 * n)\n",
        "    #print(f\"--->\"{data}\"<---\")  #M O(0)  P O(0)\n",
        "  return data #M O(0)  P O(1)\n",
        "#M O(n + 1 + 1 + 1)  P O(1 + n + n + n^2 + 2n + 1)\n",
        "#M O(n)  P O(1)\n",
        "#info = [8, 5, 9, 3]\n",
        "info = [6568, 5, 26, 789, 619, 1234, 45, 3, 6, 24, 73, 64, 159, 673, 4567, 0, 179]\n",
        "\n",
        "print(selection_sort(info))"
      ],
      "execution_count": null,
      "outputs": [
        {
          "output_type": "stream",
          "name": "stdout",
          "text": [
            "[0, 3, 5, 6, 24, 26, 45, 64, 73, 159, 179, 619, 673, 789, 1234, 4567, 6568]\n"
          ]
        }
      ]
    },
    {
      "cell_type": "markdown",
      "metadata": {
        "id": "9xNrhLwpzto6"
      },
      "source": [
        "# Insertion sort\n",
        "Como cuando juegas cartas"
      ]
    },
    {
      "cell_type": "code",
      "metadata": {
        "id": "_skuz6NBz6GJ",
        "colab": {
          "base_uri": "https://localhost:8080/"
        },
        "outputId": "e303730d-bf11-4893-dabc-268e52121ab5"
      },
      "source": [
        "def insertion_sort(data): #M O(n)  P O(1)\n",
        "  print(f\"original {data}\") #M O(0)  P O(1)\n",
        "  for pivote in range(1, len(data), 1): #M O(1)  P O(na)\n",
        "    for index in range(0, pivote + 1, 1): #M O(1)  P O(na)\n",
        "      if data[pivote] < data[index]: #M O(0)  P O(na)\n",
        "        tmp = data[pivote] #M O(1)  P O(n)\n",
        "        # recorrer a la derecha\n",
        "        for i in range(pivote, index, -1): #M O(1)  P O(na)\n",
        "          data[i] = data[i -1] #M O(0)  P O(n * m)\n",
        "        data[index] = tmp #M O(0)  P O(n)\n",
        "    print(f\"pasada {pivote} ---> {data} <---\") #M O(0)  P O(1)\n",
        "  return data #M O(0)  P O(1)\n",
        "#M O(n + 4)  P O(4 + 2n + n*m)\n",
        "#M O(n)  P O(n^2)\n",
        "\n",
        "info = [10, 51, 2, 18, 4, 31, 12, 5]\n",
        "\n",
        "print(insertion_sort(info))\n"
      ],
      "execution_count": null,
      "outputs": [
        {
          "output_type": "stream",
          "name": "stdout",
          "text": [
            "original [10, 51, 2, 18, 4, 31, 12, 5]\n",
            "pasada 1 ---> [10, 51, 2, 18, 4, 31, 12, 5] <---\n",
            "pasada 2 ---> [2, 10, 51, 18, 4, 31, 12, 5] <---\n",
            "pasada 3 ---> [2, 10, 18, 51, 4, 31, 12, 5] <---\n",
            "pasada 4 ---> [2, 4, 10, 18, 51, 31, 12, 5] <---\n",
            "pasada 5 ---> [2, 4, 10, 18, 31, 51, 12, 5] <---\n",
            "pasada 6 ---> [2, 4, 10, 12, 18, 31, 51, 5] <---\n",
            "pasada 7 ---> [2, 4, 5, 10, 12, 18, 31, 51] <---\n",
            "[2, 4, 5, 10, 12, 18, 31, 51]\n"
          ]
        }
      ]
    },
    {
      "cell_type": "markdown",
      "metadata": {
        "id": "RPnEmFjxtnSX"
      },
      "source": [
        "#Merge sort"
      ]
    },
    {
      "cell_type": "code",
      "metadata": {
        "id": "-5u6Aiut_RrS"
      },
      "source": [
        "def mergeSort(data): #M O(n)  P O(1)\n",
        "  tam = len(data) #M O(1)  P O(1)\n",
        "  #print(f\"recibido: {data}\")\n",
        "  if tam == 1: #caso base recursividad #M O(0)  P O(na)\n",
        "    return data #M O(0)  P O(1)\n",
        "\n",
        "  mid = tam // 2 #M O(1)  P O(2)\n",
        "  I = mergeSort(data[0:mid:1]) #M O(0)  P O((log n)/2)\n",
        "  D = mergeSort(data[mid: :1])\n",
        "  #print(f\"{I}\\t\\t {D}\")\n",
        "  return merge(I, D)\n",
        "\n",
        "def merge(I, D):\n",
        "  #resultado = [0] * (len(I) + len(D))\n",
        "  resultado = [0] * (len(I) + len(D))\n",
        "  i = 0 \n",
        "  d = 0\n",
        "  r = 0\n",
        "  while i < len(I) and d < len(D):\n",
        "    if I[i] < D[d]:\n",
        "      resultado[r] = I[i]\n",
        "      i += 1\n",
        "    else:\n",
        "      resultado[r] = D[d]\n",
        "      d += 1\n",
        "    r += 1\n",
        "  # procesar los faltantes ya sea a la der o izq\n",
        "  while i <len(I):\n",
        "    resultado[r] = I[i]\n",
        "    i += 1\n",
        "    r += 1\n",
        "\n",
        "  while d <len(D):\n",
        "    resultado[r] = D[d]\n",
        "    d += 1\n",
        "    r += 1  \n",
        "  return resultado"
      ],
      "execution_count": 35,
      "outputs": []
    },
    {
      "cell_type": "code",
      "metadata": {
        "colab": {
          "base_uri": "https://localhost:8080/"
        },
        "id": "E2yowdZMzPEH",
        "outputId": "2fc63ba5-dad3-479e-8a3e-54c1ff3647ef"
      },
      "source": [
        "numeros = [10, 51, 2, 18, 4, 31, 12, 5]\n",
        "print(mergeSort(numeros))\n",
        "\n",
        "numeros = [8, 4, 10, 3, 20, 18, 12, 15]\n",
        "print(mergeSort(numeros))"
      ],
      "execution_count": 37,
      "outputs": [
        {
          "output_type": "stream",
          "name": "stdout",
          "text": [
            "[2, 4, 5, 10, 12, 18, 31, 51]\n",
            "[3, 4, 8, 10, 12, 15, 18, 20]\n"
          ]
        }
      ]
    },
    {
      "cell_type": "code",
      "metadata": {
        "colab": {
          "base_uri": "https://localhost:8080/"
        },
        "id": "195DZ36YwwRe",
        "outputId": "0c6082bd-9fdb-4a39-a87c-40fca0cab96e"
      },
      "source": [
        "frutas = ['peras', 'manzanas', 'kiwi', 'limon', 'aguacate', 'uva', 'sandia']\n",
        "print(frutas)\n",
        "# Sirve para sacar rebanadas de un iterable\n",
        "# frutas[<ini>:<stop>:<incremento>]\n",
        "# NOTA: el stop´no se incluye, se incluye el valor previo\n",
        "\n",
        "print(frutas[0:3:1])\n",
        "print(frutas[2:6:1])\n",
        "print(len(frutas))\n",
        "mid = len(frutas) // 2\n",
        "print(mid)\n",
        "print(frutas[0:mid:1])\n",
        "print(frutas[mid::1])\n"
      ],
      "execution_count": null,
      "outputs": [
        {
          "output_type": "stream",
          "name": "stdout",
          "text": [
            "['peras', 'manzanas', 'kiwi', 'limon', 'aguacate', 'uva', 'sandia']\n",
            "['peras', 'manzanas', 'kiwi']\n",
            "['kiwi', 'limon', 'aguacate', 'uva']\n",
            "7\n",
            "3\n",
            "['peras', 'manzanas', 'kiwi']\n",
            "['limon', 'aguacate', 'uva', 'sandia']\n"
          ]
        }
      ]
    },
    {
      "cell_type": "code",
      "metadata": {
        "colab": {
          "base_uri": "https://localhost:8080/"
        },
        "id": "Ls9FTjJ681lA",
        "outputId": "c500e981-f0c8-4acb-b89b-1e34c91c6b39"
      },
      "source": [
        "I = [2, 8, 45]\n",
        "D = [3, 22]\n",
        "resultado = [0] * (len(I) + len(D))\n",
        "print(resultado)"
      ],
      "execution_count": null,
      "outputs": [
        {
          "output_type": "stream",
          "name": "stdout",
          "text": [
            "[0, 0, 0, 0, 0]\n"
          ]
        }
      ]
    }
  ]
}