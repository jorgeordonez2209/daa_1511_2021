{
  "nbformat": 4,
  "nbformat_minor": 0,
  "metadata": {
    "colab": {
      "name": "Sort_BigO_1511.ipynb",
      "provenance": [],
      "authorship_tag": "ABX9TyMSZYlynRBbCHGtR+C+Ehi/",
      "include_colab_link": true
    },
    "kernelspec": {
      "name": "python3",
      "display_name": "Python 3"
    },
    "language_info": {
      "name": "python"
    }
  },
  "cells": [
    {
      "cell_type": "markdown",
      "metadata": {
        "id": "view-in-github",
        "colab_type": "text"
      },
      "source": [
        "<a href=\"https://colab.research.google.com/github/jorgeordonez2209/daa_1511_2021/blob/main/Sort_BigO_1511_11oct_2021.ipynb\" target=\"_parent\"><img src=\"https://colab.research.google.com/assets/colab-badge.svg\" alt=\"Open In Colab\"/></a>"
      ]
    },
    {
      "cell_type": "markdown",
      "metadata": {
        "id": "VWyA_r4vKBj1"
      },
      "source": [
        "# Bubble sort"
      ]
    },
    {
      "cell_type": "code",
      "metadata": {
        "colab": {
          "base_uri": "https://localhost:8080/"
        },
        "id": "rm--YyCvKKP8",
        "outputId": "b3e56255-5441-453b-d7a2-7c8d04f5e61e"
      },
      "source": [
        "#info = [8, 5, 9, 3]\n",
        "info = [6568, 5, 26, 789, 619, 1234, 45, 3, 6, 24, 73, 64, 159, 673, 4567, 0, 179]\n",
        "\n",
        "def burbuja(data): #M O(n)  P O(1)\n",
        "  n = len(data) #M O(1)  P O(1)\n",
        "  for tope in range(n-1, 0, -1): #range(<inicio>, <stop>, <incremento>) #M O(1)  P O(na)\n",
        "    for pivote in range(tope): #M O(1)  P O(na)\n",
        "      if data[pivote] > data[pivote + 1]: #M O()  P O()\n",
        "        data[pivote], data[pivote + 1] = data[pivote + 1], data[pivote] # intercambio a, b = b, a #M O(0)  P O(2n^2)\n",
        "        #print(f\"--->\"{data}\"<---\")  \n",
        "  return data #M O(0)  P O(1)\n",
        "\n",
        "burbuja(info)\n",
        "##M O(n + 3)  P O(3 + 2n^2)\n",
        "#Memoria O(n)\n",
        "#Procesamiento O(n^2)"
      ],
      "execution_count": null,
      "outputs": [
        {
          "output_type": "execute_result",
          "data": {
            "text/plain": [
              "[0, 3, 5, 6, 24, 26, 45, 64, 73, 159, 179, 619, 673, 789, 1234, 4567, 6568]"
            ]
          },
          "metadata": {},
          "execution_count": 18
        }
      ]
    },
    {
      "cell_type": "markdown",
      "metadata": {
        "id": "-JYK75LvXaG_"
      },
      "source": [
        "# Selection sort"
      ]
    },
    {
      "cell_type": "code",
      "metadata": {
        "colab": {
          "base_uri": "https://localhost:8080/"
        },
        "id": "hYKAqOdxXdrm",
        "outputId": "269ba29d-3085-4fb1-9366-e652339b67ee"
      },
      "source": [
        "def selection_sort(data): #M O(n)  P O(1)\n",
        "  for pivote in range(len(data)): #M O(1)  P O(na)\n",
        "    min = pivote # posicion del menor #M O(1)  P O(1 * n)\n",
        "    for index in range (pivote, len(data), 1): #M O(1)  P O(na)\n",
        "      if data[index] < data[min]: #M O(0)  P O(na)\n",
        "        min = index #M O(0)  P O(n^2)\n",
        "    data[pivote], data[min] = data[min], data[pivote]  #M O(0)  P O(2 * n)\n",
        "    #print(f\"--->\"{data}\"<---\")  #M O(0)  P O(0)\n",
        "  return data #M O(0)  P O(1)\n",
        "#M O(n + 1 + 1 + 1)  P O(1 + n + n + n^2 + 2n + 1)\n",
        "#M O(n)  P O(1)\n",
        "#info = [8, 5, 9, 3]\n",
        "info = [6568, 5, 26, 789, 619, 1234, 45, 3, 6, 24, 73, 64, 159, 673, 4567, 0, 179]\n",
        "\n",
        "print(selection_sort(info))"
      ],
      "execution_count": null,
      "outputs": [
        {
          "output_type": "stream",
          "name": "stdout",
          "text": [
            "[0, 3, 5, 6, 24, 26, 45, 64, 73, 159, 179, 619, 673, 789, 1234, 4567, 6568]\n"
          ]
        }
      ]
    },
    {
      "cell_type": "markdown",
      "metadata": {
        "id": "9xNrhLwpzto6"
      },
      "source": [
        "# Insertion sort\n",
        "Como cuando juegas cartas"
      ]
    },
    {
      "cell_type": "code",
      "metadata": {
        "id": "_skuz6NBz6GJ"
      },
      "source": [
        "def insertion_sort(data):\n",
        "  print(f\"original {data}\")\n",
        "\n",
        "info = (10, 51, 2, 18, 4, 31, 12, 5)\n",
        "\n",
        "insertion_sort(info)\n"
      ],
      "execution_count": null,
      "outputs": []
    }
  ]
}