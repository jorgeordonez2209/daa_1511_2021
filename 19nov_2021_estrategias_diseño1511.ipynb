{
  "nbformat": 4,
  "nbformat_minor": 0,
  "metadata": {
    "colab": {
      "name": "estrategias_diseño1511.ipynb",
      "provenance": [],
      "authorship_tag": "ABX9TyN9KQpl8nN6POZCm0maYsnb",
      "include_colab_link": true
    },
    "kernelspec": {
      "display_name": "Python 3",
      "name": "python3"
    },
    "language_info": {
      "name": "python"
    }
  },
  "cells": [
    {
      "cell_type": "markdown",
      "metadata": {
        "id": "view-in-github",
        "colab_type": "text"
      },
      "source": [
        "<a href=\"https://colab.research.google.com/github/jorgeordonez2209/daa_1511_2021/blob/main/19nov_2021_estrategias_dise%C3%B1o1511.ipynb\" target=\"_parent\"><img src=\"https://colab.research.google.com/assets/colab-badge.svg\" alt=\"Open In Colab\"/></a>"
      ]
    },
    {
      "cell_type": "markdown",
      "metadata": {
        "id": "vGzO59mTYXsH"
      },
      "source": [
        "# Fuerza bruta\n",
        "### ejemplo 1, busqueda de patrones de texto"
      ]
    },
    {
      "cell_type": "code",
      "metadata": {
        "colab": {
          "background_save": true,
          "base_uri": "https://localhost:8080/"
        },
        "id": "M_jyp1JyV05I",
        "outputId": "76a10e41-9f27-40ad-c34a-7a5fa17ed803"
      },
      "source": [
        "def string_match_brute(A, P):\n",
        "  for i in range(len(A) - len(P) + 1):\n",
        "    for j in range(len(P)):\n",
        "      if P[j] == A[i + j]:\n",
        "        pass\n",
        "      else:\n",
        "        break\n",
        "    contador=0\n",
        "    if j + 1 == len(P) and A[i + j] == P[j]:\n",
        "      print(f\"Se encontro en la posicion: {i}\")\n",
        "      contador +=1\n",
        "      print(contador)\n",
        "      \n",
        "\n",
        "#entrada = \"001110010101101110101101\"\n",
        "#patron = \"01101\"\n",
        "entrada = \"jorgejorgejorge\"\n",
        "patron = \"or\"\n",
        "string_match_brute(entrada, patron)\n"
      ],
      "execution_count": null,
      "outputs": [
        {
          "name": "stdout",
          "output_type": "stream",
          "text": [
            "Se encontro en la posicion: 1\n",
            "Se encontro en la posicion: 6\n",
            "Se encontro en la posicion: 11\n"
          ]
        }
      ]
    },
    {
      "cell_type": "code",
      "metadata": {
        "id": "8P6YzdUVC2oe",
        "colab": {
          "base_uri": "https://localhost:8080/"
        },
        "outputId": "4e7db4ff-9211-477a-ddd2-8e7ecc69a130"
      },
      "source": [
        "cifrado  =\"zg gzhv lpz vidhv v gv pidqzmndyvy ivxdjivg, kmj hd mvuv cvwgvmá zg znkímdop, mzqzgv gv qjxvxdói cphviínodxv xji gv lpz apz xjixzwdyv. zg zpojm yz znov xégzwmz, ejné qvnxjixzgjn, vnphdó gv mzxojmív zi 1920, zi piv ékjxv zi lpz gvn znkzmviuvn yz gv mzqjgpxdói vúi znovwvi qdqvn, cvwiv piv bmvi aé zi gv kvomdv t zg áidhj mzyziojm nz zsoziyív zi zg zhwdzioz.\"\n",
        "alfabeto  = \"abcdefghijklmnopqrstuvwxyz\"\n",
        "print(len(alfabeto))\n",
        "\n",
        "for llave in range( 1, len(alfabeto)):\n",
        "   for i in range( len(cifrado)):\n",
        "       if not( cifrado[ i ] in alfabeto):\n",
        "           pass\n",
        "       else:\n",
        "           #print(alfabeto.index(cifrado[i]), end=\" \")\n",
        "           index = alfabeto.index(cifrado[i])\n",
        "           print( alfabeto[ (index + llave)  % 26] , end=\" \" ) \n",
        "\n",
        "   print(\"\")"
      ],
      "execution_count": null,
      "outputs": [
        {
          "output_type": "stream",
          "name": "stdout",
          "text": [
            "26\n",
            "a h h a i w m q a w j e i w w h w q j e r a n o e z w z j w y e k j w h l n k i e n w v w d w x h w n a h a o l n e p q n a r a h w h w r k y w y e j d q i w j o p e y w y k j h w m q a b q a y k j y a x e z w a h a q p k n z a a o p w y h a x n a f k o r w o y k j y a h k o w o q i e h w n a y p k n w a j a j q j w l k y w a j m q a h w o a o l a n w j v w o z a h w n a r k h q y e j w j a o p w x w j r e r w o d w x j w q j w c n w j b a j h w l w p n e w u a h j e i k n a z a j p k n o a a t p a j z w a j a h a i x e a j p a \n",
            "b i i b j x n r b x k f j x x i x r k f s b o p f a x a k x z f l k x i m o l j f o x w x e x y i x o b i b p m o f q r o b s b i x i x s l z x z f k e r j x k p q f z x z l k i x n r b c r b z l k z b y f a x b i b r q l o a b b p q x z i b y o b g l p s x p z l k z b i l p x p r j f i x o b z q l o x b k b k r k x m l z x b k n r b i x p b p m b o x k w x p a b i x o b s l i r z f k x k b p q x y x k s f s x p e x y k x r k x d o x k c b k i x m x q o f x v b i k f j l o b a b k q l o p b b u q b k a x b k b i b j y f b k q b \n",
            "c j j c k y o s c y l g k y y j y s l g t c p q g b y b l y a g m l y j n p m k g p y x y f y z j y p c j c q n p g r s p c t c j y j y t m a y a g l f s k y l q r g a y a m l j y o s c d s c a m l a c z g b y c j c s r m p b c c q r y a j c z p c h m q t y q a m l a c j m q y q s k g j y p c a r m p y c l c l s l y n m a y c l o s c j y q c q n c p y l x y q b c j y p c t m j s a g l y l c q r y z y l t g t y q f y z l y s l y e p y l d c l j y n y r p g y w c j l g k m p c b c l r m p q c c v r c l b y c l c j c k z g c l r c \n",
            "d k k d l z p t d z m h l z z k z t m h u d q r h c z c m z b h n m z k o q n l h q z y z g z a k z q d k d r o q h s t q d u d k z k z u n b z b h m g t l z m r s h b z b n m k z p t d e t d b n m b d a h c z d k d t s n q c d d r s z b k d a q d i n r u z r b n m b d k n r z r t l h k z q d b s n q z d m d m t m z o n b z d m p t d k z r d r o d q z m y z r c d k z q d u n k t b h m z m d r s z a z m u h u z r g z a m z t m z f q z m e d m k z o z s q h z x d k m h l n q d c d m s n q r d d w s d m c z d m d k d l a h d m s d \n",
            "e l l e m a q u e a n i m a a l a u n i v e r s i d a d n a c i o n a l p r o m i r a z a h a b l a r e l e s p r i t u r e v e l a l a v o c a c i n h u m a n s t i c a c o n l a q u e f u e c o n c e b i d a e l e u t o r d e e s t a c l e b r e j o s v a s c o n c e l o s a s u m i l a r e c t o r a e n e n u n a p o c a e n q u e l a s e s p e r a n z a s d e l a r e v o l u c i n a n e s t a b a n v i v a s h a b n a u n a g r a n f e n l a p a t r i a y e l n i m o r e d e n t o r s e e x t e n d a e n e l e m b i e n t e \n",
            "f m m f n b r v f b o j n b b m b v o j w f s t j e b e o b d j p o b m q s p n j s b a b i b c m b s f m f t q s j u v s f w f m b m b w p d b d j o i v n b o t u j d b d p o m b r v f g v f d p o d f c j e b f m f v u p s e f f t u b d m f c s f k p t w b t d p o d f m p t b t v n j m b s f d u p s b f o f o v o b q p d b f o r v f m b t f t q f s b o a b t e f m b s f w p m v d j o b o f t u b c b o w j w b t i b c o b v o b h s b o g f o m b q b u s j b z f m o j n p s f e f o u p s t f f y u f o e b f o f m f n c j f o u f \n",
            "g n n g o c s w g c p k o c c n c w p k x g t u k f c f p c e k q p c n r t q o k t c b c j c d n c t g n g u r t k v w t g x g n c n c x q e c e k p j w o c p u v k e c e q p n c s w g h w g e q p e g d k f c g n g w v q t f g g u v c e n g d t g l q u x c u e q p e g n q u c u w o k n c t g e v q t c g p g p w p c r q e c g p s w g n c u g u r g t c p b c u f g n c t g x q n w e k p c p g u v c d c p x k x c u j c d p c w p c i t c p h g p n c r c v t k c a g n p k o q t g f g p v q t u g g z v g p f c g p g n g o d k g p v g \n",
            "h o o h p d t x h d q l p d d o d x q l y h u v l g d g q d f l r q d o s u r p l u d c d k d e o d u h o h v s u l w x u h y h o d o d y r f d f l q k x p d q v w l f d f r q o d t x h i x h f r q f h e l g d h o h x w r u g h h v w d f o h e u h m r v y d v f r q f h o r v d v x p l o d u h f w r u d h q h q x q d s r f d h q t x h o d v h v s h u d q c d v g h o d u h y r o x f l q d q h v w d e d q y l y d v k d e q d x q d j u d q i h q o d s d w u l d b h o q l p r u h g h q w r u v h h a w h q g d h q h o h p e l h q w h \n",
            "i p p i q e u y i e r m q e e p e y r m z i v w m h e h r e g m s r e p t v s q m v e d e l e f p e v i p i w t v m x y v i z i p e p e z s g e g m r l y q e r w x m g e g s r p e u y i j y i g s r g i f m h e i p i y x s v h i i w x e g p i f v i n s w z e w g s r g i p s w e w y q m p e v i g x s v e i r i r y r e t s g e i r u y i p e w i w t i v e r d e w h i p e v i z s p y g m r e r i w x e f e r z m z e w l e f r e y r e k v e r j i r p e t e x v m e c i p r m q s v i h i r x s v w i i b x i r h e i r i p i q f m i r x i \n",
            "j q q j r f v z j f s n r f f q f z s n a j w x n i f i s f h n t s f q u w t r n w f e f m f g q f w j q j x u w n y z w j a j q f q f a t h f h n s m z r f s x y n h f h t s q f v z j k z j h t s h j g n i f j q j z y t w i j j x y f h q j g w j o t x a f x h t s h j q t x f x z r n q f w j h y t w f j s j s z s f u t h f j s v z j q f x j x u j w f s e f x i j q f w j a t q z h n s f s j x y f g f s a n a f x m f g s f z s f l w f s k j s q f u f y w n f d j q s n r t w j i j s y t w x j j c y j s i f j s j q j r g n j s y j \n",
            "k r r k s g w a k g t o s g g r g a t o b k x y o j g j t g i o u t g r v x u s o x g f g n g h r g x k r k y v x o z a x k b k r g r g b u i g i o t n a s g t y z o i g i u t r g w a k l a k i u t i k h o j g k r k a z u x j k k y z g i r k h x k p u y b g y i u t i k r u y g y a s o r g x k i z u x g k t k t a t g v u i g k t w a k r g y k y v k x g t f g y j k r g x k b u r a i o t g t k y z g h g t b o b g y n g h t g a t g m x g t l k t r g v g z x o g e k r t o s u x k j k t z u x y k k d z k t j g k t k r k s h o k t z k \n",
            "l s s l t h x b l h u p t h h s h b u p c l y z p k h k u h j p v u h s w y v t p y h g h o h i s h y l s l z w y p a b y l c l s h s h c v j h j p u o b t h u z a p j h j v u s h x b l m b l j v u j l i p k h l s l b a v y k l l z a h j s l i y l q v z c h z j v u j l s v z h z b t p s h y l j a v y h l u l u b u h w v j h l u x b l s h z l z w l y h u g h z k l s h y l c v s b j p u h u l z a h i h u c p c h z o h i u h b u h n y h u m l u s h w h a y p h f l s u p t v y l k l u a v y z l l e a l u k h l u l s l t i p l u a l \n",
            "m t t m u i y c m i v q u i i t i c v q d m z a q l i l v i k q w v i t x z w u q z i h i p i j t i z m t m a x z q b c z m d m t i t i d w k i k q v p c u i v a b q k i k w v t i y c m n c m k w v k m j q l i m t m c b w z l m m a b i k t m j z m r w a d i a k w v k m t w a i a c u q t i z m k b w z i m v m v c v i x w k i m v y c m t i a m a x m z i v h i a l m t i z m d w t c k q v i v m a b i j i v d q d i a p i j v i c v i o z i v n m v t i x i b z q i g m t v q u w z m l m v b w z a m m f b m v l i m v m t m u j q m v b m \n",
            "n u u n v j z d n j w r v j j u j d w r e n a b r m j m w j l r x w j u y a x v r a j i j q j k u j a n u n b y a r c d a n e n u j u j e x l j l r w q d v j w b c r l j l x w u j z d n o d n l x w l n k r m j n u n d c x a m n n b c j l u n k a n s x b e j b l x w l n u x b j b d v r u j a n l c x a j n w n w d w j y x l j n w z d n u j b n b y n a j w i j b m n u j a n e x u d l r w j w n b c j k j w e r e j b q j k w j d w j p a j w o n w u j y j c a r j h n u w r v x a n m n w c x a b n n g c n w m j n w n u n v k r n w c n \n",
            "o v v o w k a e o k x s w k k v k e x s f o b c s n k n x k m s y x k v z b y w s b k j k r k l v k b o v o c z b s d e b o f o v k v k f y m k m s x r e w k x c d s m k m y x v k a e o p e o m y x m o l s n k o v o e d y b n o o c d k m v o l b o t y c f k c m y x m o v y c k c e w s v k b o m d y b k o x o x e x k z y m k o x a e o v k c o c z o b k x j k c n o v k b o f y v e m s x k x o c d k l k x f s f k c r k l x k e x k q b k x p o x v k z k d b s k i o v x s w y b o n o x d y b c o o h d o x n k o x o v o w l s o x d o \n",
            "p w w p x l b f p l y t x l l w l f y t g p c d t o l o y l n t z y l w a c z x t c l k l s l m w l c p w p d a c t e f c p g p w l w l g z n l n t y s f x l y d e t n l n z y w l b f p q f p n z y n p m t o l p w p f e z c o p p d e l n w p m c p u z d g l d n z y n p w z d l d f x t w l c p n e z c l p y p y f y l a z n l p y b f p w l d p d a p c l y k l d o p w l c p g z w f n t y l y p d e l m l y g t g l d s l m y l f y l r c l y q p y w l a l e c t l j p w y t x z c p o p y e z c d p p i e p y o l p y p w p x m t p y e p \n",
            "q x x q y m c g q m z u y m m x m g z u h q d e u p m p z m o u a z m x b d a y u d m l m t m n x m d q x q e b d u f g d q h q x m x m h a o m o u z t g y m z e f u o m o a z x m c g q r g q o a z o q n u p m q x q g f a d p q q e f m o x q n d q v a e h m e o a z o q x a e m e g y u x m d q o f a d m q z q z g z m b a o m q z c g q x m e q e b q d m z l m e p q x m d q h a x g o u z m z q e f m n m z h u h m e t m n z m g z m s d m z r q z x m b m f d u m k q x z u y a d q p q z f a d e q q j f q z p m q z q x q y n u q z f q \n",
            "r y y r z n d h r n a v z n n y n h a v i r e f v q n q a n p v b a n y c e b z v e n m n u n o y n e r y r f c e v g h e r i r y n y n i b p n p v a u h z n a f g v p n p b a y n d h r s h r p b a p r o v q n r y r h g b e q r r f g n p y r o e r w b f i n f p b a p r y b f n f h z v y n e r p g b e n r a r a h a n c b p n r a d h r y n f r f c r e n a m n f q r y n e r i b y h p v a n a r f g n o n a i v i n f u n o a n h a n t e n a s r a y n c n g e v n l r y a v z b e r q r a g b e f r r k g r a q n r a r y r z o v r a g r \n",
            "s z z s a o e i s o b w a o o z o i b w j s f g w r o r b o q w c b o z d f c a w f o n o v o p z o f s z s g d f w h i f s j s z o z o j c q o q w b v i a o b g h w q o q c b z o e i s t i s q c b q s p w r o s z s i h c f r s s g h o q z s p f s x c g j o g q c b q s z c g o g i a w z o f s q h c f o s b s b i b o d c q o s b e i s z o g s g d s f o b n o g r s z o f s j c z i q w b o b s g h o p o b j w j o g v o p b o i b o u f o b t s b z o d o h f w o m s z b w a c f s r s b h c f g s s l h s b r o s b s z s a p w s b h s \n",
            "t a a t b p f j t p c x b p p a p j c x k t g h x s p s c p r x d c p a e g d b x g p o p w p q a p g t a t h e g x i j g t k t a p a p k d r p r x c w j b p c h i x r p r d c a p f j t u j t r d c r t q x s p t a t j i d g s t t h i p r a t q g t y d h k p h r d c r t a d h p h j b x a p g t r i d g p t c t c j c p e d r p t c f j t a p h t h e t g p c o p h s t a p g t k d a j r x c p c t h i p q p c k x k p h w p q c p j c p v g p c u t c a p e p i g x p n t a c x b d g t s t c i d g h t t m i t c s p t c t a t b q x t c i t \n",
            "u b b u c q g k u q d y c q q b q k d y l u h i y t q t d q s y e d q b f h e c y h q p q x q r b q h u b u i f h y j k h u l u b q b q l e s q s y d x k c q d i j y s q s e d b q g k u v k u s e d s u r y t q u b u k j e h t u u i j q s b u r h u z e i l q i s e d s u b e i q i k c y b q h u s j e h q u d u d k d q f e s q u d g k u b q i u i f u h q d p q i t u b q h u l e b k s y d q d u i j q r q d l y l q i x q r d q k d q w h q d v u d b q f q j h y q o u b d y c e h u t u d j e h i u u n j u d t q u d u b u c r y u d j u \n",
            "v c c v d r h l v r e z d r r c r l e z m v i j z u r u e r t z f e r c g i f d z i r q r y r s c r i v c v j g i z k l i v m v c r c r m f t r t z e y l d r e j k z t r t f e c r h l v w l v t f e t v s z u r v c v l k f i u v v j k r t c v s i v a f j m r j t f e t v c f j r j l d z c r i v t k f i r v e v e l e r g f t r v e h l v c r j v j g v i r e q r j u v c r i v m f c l t z e r e v j k r s r e m z m r j y r s e r l e r x i r e w v e c r g r k i z r p v c e z d f i v u v e k f i j v v o k v e u r v e v c v d s z v e k v \n",
            "w d d w e s i m w s f a e s s d s m f a n w j k a v s v f s u a g f s d h j g e a j s r s z s t d s j w d w k h j a l m j w n w d s d s n g u s u a f z m e s f k l a u s u g f d s i m w x m w u g f u w t a v s w d w m l g j v w w k l s u d w t j w b g k n s k u g f u w d g k s k m e a d s j w u l g j s w f w f m f s h g u s w f i m w d s k w k h w j s f r s k v w d s j w n g d m u a f s f w k l s t s f n a n s k z s t f s m f s y j s f x w f d s h s l j a s q w d f a e g j w v w f l g j k w w p l w f v s w f w d w e t a w f l w \n",
            "x e e x f t j n x t g b f t t e t n g b o x k l b w t w g t v b h g t e i k h f b k t s t a t u e t k x e x l i k b m n k x o x e t e t o h v t v b g a n f t g l m b v t v h g e t j n x y n x v h g v x u b w t x e x n m h k w x x l m t v e x u k x c h l o t l v h g v x e h l t l n f b e t k x v m h k t x g x g n g t i h v t x g j n x e t l x l i x k t g s t l w x e t k x o h e n v b g t g x l m t u t g o b o t l a t u g t n g t z k t g y x g e t i t m k b t r x e g b f h k x w x g m h k l x x q m x g w t x g x e x f u b x g m x \n",
            "y f f y g u k o y u h c g u u f u o h c p y l m c x u x h u w c i h u f j l i g c l u t u b u v f u l y f y m j l c n o l y p y f u f u p i w u w c h b o g u h m n c w u w i h f u k o y z o y w i h w y v c x u y f y o n i l x y y m n u w f y v l y d i m p u m w i h w y f i m u m o g c f u l y w n i l u y h y h o h u j i w u y h k o y f u m y m j y l u h t u m x y f u l y p i f o w c h u h y m n u v u h p c p u m b u v h u o h u a l u h z y h f u j u n l c u s y f h c g i l y x y h n i l m y y r n y h x u y h y f y g v c y h n y \n"
          ]
        }
      ]
    },
    {
      "cell_type": "markdown",
      "metadata": {
        "id": "L98u28O_uRkv"
      },
      "source": [
        "# buscar por fuerza bruta los puntos mas cercanos entre si, dentro de un plano cartesiano"
      ]
    },
    {
      "cell_type": "code",
      "metadata": {
        "colab": {
          "base_uri": "https://localhost:8080/",
          "height": 353
        },
        "id": "997azxd2pybj",
        "outputId": "56c423bb-f006-46c3-8e06-7f91ef149836"
      },
      "source": [
        "from matplotlib import pyplot as plt\n",
        "import random\n",
        "import math\n",
        "\n",
        "pares = []\n",
        "for i in range(30):\n",
        "  pares.append([random.randint(1, 100), random.randint(1, 100)])\n",
        "print(pares)\n",
        "\n",
        "for par in pares:\n",
        "  plt.scatter(par[0], par[1], s = 3, c = 'b')\n",
        "\n",
        "def distancia(p1, p2): #pares\n",
        "  dis = math.sqrt((pow(((p2[0] - p1[0])), 2)) + (pow(((p2[1] - p1[1])), 2)))\n",
        "  return dis\n",
        "\n",
        "print(distancia([100, 34], [27, 37]))\n",
        "\n",
        "menor = 99999\n",
        "d = 0\n",
        "par_menor = []\n",
        "for i in range(len(pares)):\n",
        "  for j in range(len(pares)):\n",
        "    d = distancia(pares[i], pares[j])\n",
        "    #print(d)\n",
        "    if d < menor and d != 0.0:\n",
        "      menor = d\n",
        "      par_menor.clear()\n",
        "      par_menor.append(pares[i])\n",
        "      par_menor.append(pares[j])\n",
        "\n",
        "print(menor)\n",
        "print(par_menor[0], par_menor[1])"
      ],
      "execution_count": 17,
      "outputs": [
        {
          "output_type": "stream",
          "name": "stdout",
          "text": [
            "[[82, 89], [14, 31], [4, 96], [33, 98], [59, 13], [3, 36], [76, 50], [22, 3], [5, 6], [75, 72], [70, 54], [27, 91], [99, 92], [30, 3], [9, 43], [92, 31], [10, 96], [49, 79], [64, 89], [92, 39], [9, 11], [10, 41], [17, 18], [77, 91], [100, 95], [48, 79], [6, 72], [65, 7], [58, 31], [78, 57]]\n",
            "73.06161783043132\n",
            "1.0\n",
            "[49, 79] [48, 79]\n"
          ]
        },
        {
          "output_type": "display_data",
          "data": {
            "image/png": "[encoded data removed]",
            "text/plain": [
              "<Figure size 432x288 with 1 Axes>"
            ]
          },
          "metadata": {
            "needs_background": "light"
          }
        }
      ]
    }
  ]
}