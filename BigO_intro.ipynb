{
  "nbformat": 4,
  "nbformat_minor": 0,
  "metadata": {
    "colab": {
      "name": "BigO_intro.ipynb",
      "provenance": [],
      "authorship_tag": "ABX9TyPYW07Tnc0KwofX1WL7odAj",
      "include_colab_link": true
    },
    "kernelspec": {
      "name": "python3",
      "display_name": "Python 3"
    },
    "language_info": {
      "name": "python"
    }
  },
  "cells": [
    {
      "cell_type": "markdown",
      "metadata": {
        "id": "view-in-github",
        "colab_type": "text"
      },
      "source": [
        "<a href=\"https://colab.research.google.com/github/jorgeordonez2209/daa_1511_2021/blob/main/BigO_intro.ipynb\" target=\"_parent\"><img src=\"https://colab.research.google.com/assets/colab-badge.svg\" alt=\"Open In Colab\"/></a>"
      ]
    },
    {
      "cell_type": "code",
      "metadata": {
        "id": "kNQoR8m7eGsS"
      },
      "source": [
        "def suma(num):\n",
        "  suma = 0\n",
        "  for i in range(num + 1):\n",
        "    suma += i\n",
        "  print(suma)"
      ],
      "execution_count": null,
      "outputs": []
    },
    {
      "cell_type": "code",
      "metadata": {
        "colab": {
          "base_uri": "https://localhost:8080/"
        },
        "id": "9_8lGJEZeSD-",
        "outputId": "c110f49f-cb66-4043-a74f-8be1ca30f274"
      },
      "source": [
        "import time #medir tiempo de ejecucion\n",
        "time.time()\n",
        "marca1 = time.time()\n",
        "\n",
        "n = 3\n",
        "suma(n)\n",
        "marca2 =time.time()\n",
        "print(marca2 - marca1)"
      ],
      "execution_count": null,
      "outputs": [
        {
          "output_type": "stream",
          "name": "stdout",
          "text": [
            "6\n",
            "0.0006935596466064453\n"
          ]
        }
      ]
    },
    {
      "cell_type": "code",
      "metadata": {
        "id": "o501uU49eiv0"
      },
      "source": [
        "def sumaNumeros(n):\n",
        "    if (n == 0):\n",
        "        return 0\n",
        "    else: \n",
        "        return n+sumaNumeros(n-1)"
      ],
      "execution_count": null,
      "outputs": []
    },
    {
      "cell_type": "code",
      "metadata": {
        "colab": {
          "base_uri": "https://localhost:8080/"
        },
        "id": "rxWzIQ0MevDr",
        "outputId": "3fa13d8b-0e2d-481d-f367-34024956ec1c"
      },
      "source": [
        "n = 3\n",
        "\n",
        "sumaNumeros(n)"
      ],
      "execution_count": null,
      "outputs": [
        {
          "output_type": "execute_result",
          "data": {
            "text/plain": [
              "6"
            ]
          },
          "metadata": {},
          "execution_count": 5
        }
      ]
    },
    {
      "cell_type": "markdown",
      "metadata": {
        "id": "478ljeLOiQMl"
      },
      "source": [
        "# ejercicio 2\n",
        "texto problema"
      ]
    },
    {
      "cell_type": "code",
      "metadata": {
        "colab": {
          "base_uri": "https://localhost:8080/"
        },
        "id": "JhifgKGXiB--",
        "outputId": "fce48107-2e46-4585-acf1-c0aebe446a55"
      },
      "source": [
        "numeros = [1,2,3]\n",
        "\n",
        "def unaFuncionCualquiera( lista ):\n",
        "    conteo = 0 # O(1)\n",
        "    for numero1 in lista:\n",
        "        for numero2 in lista:\n",
        "            print(numero1 , numero2 )# O(n^2)\n",
        "            conteo += 1 # O(n^2)\n",
        "    return conteo\n",
        "# O(1 + 2n^2)\n",
        "# O(n^2) ----> simplificado por reglas\n",
        "\n",
        "conteo = unaFuncionCualquiera(numeros)\n",
        "\n",
        "print( \"Final:\" , conteo)"
      ],
      "execution_count": null,
      "outputs": [
        {
          "output_type": "stream",
          "name": "stdout",
          "text": [
            "1 1\n",
            "1 2\n",
            "1 3\n",
            "2 1\n",
            "2 2\n",
            "2 3\n",
            "3 1\n",
            "3 2\n",
            "3 3\n",
            "Final: 9\n"
          ]
        }
      ]
    },
    {
      "cell_type": "markdown",
      "metadata": {
        "id": "6CtP-ib7isq7"
      },
      "source": [
        "# ejercicio 3.1\n",
        "Modificar el anterior para que ademas:\n",
        "- Sume los elementos de la lista y muestre el resultado."
      ]
    },
    {
      "cell_type": "code",
      "metadata": {
        "id": "ES9x0HWVjJGK"
      },
      "source": [
        "numeros = [1,2,3]\n",
        "\n",
        "def unaFuncionCualquiera( lista ):\n",
        "    conteo = 0 # O(1)\n",
        "    suma = 0 # O(1)\n",
        "    for num in lista:\n",
        "        suma += num # O(n)\n",
        "    print(f\"La sumatoria de los numeros en la lista es={ suma } \") # O(1)\n",
        "\n",
        "    for numero1 in lista:\n",
        "        for numero2 in lista:\n",
        "            print(numero1 , numero2 ) # O(n^2)\n",
        "            conteo += 1 # O(n^2)\n",
        "    return conteo\n",
        "# O(3 + n + 2n^2)\n",
        "# O(n^2)\n",
        "\n",
        "conteo = unaFuncionCualquiera(numeros)\n",
        "\n",
        "print( \"Final:\" , conteo)"
      ],
      "execution_count": null,
      "outputs": []
    },
    {
      "cell_type": "markdown",
      "metadata": {
        "id": "AI8drwEwlsCK"
      },
      "source": [
        "# ejercicio 3.2\n",
        "Modificar ejercicio 2 y que las combinaciones sean de dos listas diferentes"
      ]
    },
    {
      "cell_type": "code",
      "metadata": {
        "colab": {
          "base_uri": "https://localhost:8080/"
        },
        "id": "GGP8kibRl8lB",
        "outputId": "8165f2d9-f4e8-41cd-9707-3272a03609f2"
      },
      "source": [
        "numeros = [1,2,3]\n",
        "numeros2 = [4,5,6]\n",
        "\n",
        "def unaFuncionCualquiera( lista, lista2 ):\n",
        "    conteo = 0 # O(1)\n",
        "    for numero1 in lista:\n",
        "        for numero2 in lista2:\n",
        "            print(numero1 , numero2 ) # O(n * m)\n",
        "            conteo += 1 # O(n * m)\n",
        "    return conteo\n",
        "# O(1 + 2(n * m))\n",
        "# O((n * m))\n",
        "\n",
        "conteo = unaFuncionCualquiera(numeros, numeros2)\n",
        "\n",
        "print( \"Final:\" , conteo)"
      ],
      "execution_count": null,
      "outputs": [
        {
          "output_type": "stream",
          "name": "stdout",
          "text": [
            "1 4\n",
            "1 5\n",
            "1 6\n",
            "2 4\n",
            "2 5\n",
            "2 6\n",
            "3 4\n",
            "3 5\n",
            "3 6\n",
            "Final: 9\n"
          ]
        }
      ]
    },
    {
      "cell_type": "code",
      "metadata": {
        "colab": {
          "base_uri": "https://localhost:8080/"
        },
        "id": "dBeealkzwz00",
        "outputId": "203664cf-6288-4584-8f9b-aaab19b43359"
      },
      "source": [
        "numeros = [1,2,3]\n",
        "numeros2 = [4,5,6,7,8]\n",
        "\n",
        "def unaFuncionCualquiera( lista, lista2 ):\n",
        "    conteo = 0 # O(1)\n",
        "    for numero1 in lista:\n",
        "        for numero2 in lista2:\n",
        "            print(numero1 , numero2 ) # O(n * m)\n",
        "            conteo += 1 # O(n * m)\n",
        "    return conteo\n",
        "# O(1 + 2(n * m))\n",
        "\n",
        "conteo = unaFuncionCualquiera(numeros, numeros2)\n",
        "\n",
        "print( \"Final:\" , conteo)"
      ],
      "execution_count": 1,
      "outputs": [
        {
          "output_type": "stream",
          "name": "stdout",
          "text": [
            "1 4\n",
            "1 5\n",
            "1 6\n",
            "1 7\n",
            "1 8\n",
            "2 4\n",
            "2 5\n",
            "2 6\n",
            "2 7\n",
            "2 8\n",
            "3 4\n",
            "3 5\n",
            "3 6\n",
            "3 7\n",
            "3 8\n",
            "Final: 15\n"
          ]
        }
      ]
    },
    {
      "cell_type": "markdown",
      "metadata": {
        "id": "uG2qdtIUyZRE"
      },
      "source": [
        "# ejercicio 4\n",
        "- Hacer una funcion que realice la busqueda lineal en un arreglo unidimencional de numeros.\n",
        "- La funcion debe recibir dos argumentos: el arreglo y el valor a buscar.\n",
        "- Debe regresar el numero de comparaciones realizadas en la busqueda."
      ]
    },
    {
      "cell_type": "code",
      "metadata": {
        "colab": {
          "base_uri": "https://localhost:8080/"
        },
        "id": "iJiJWy_1yb75",
        "outputId": "e2d3f365-4f3b-4860-a873-69a59b57c475"
      },
      "source": [
        "def busqueda_lineal(lista, val_a_buscar):\n",
        "  contador = 0 # O(1)\n",
        "  for x in range(len(lista)):\n",
        "    contador += 1 # O(n)\n",
        "    if lista[x] == val_a_buscar:\n",
        "      print(f\"Encontrado en la posicion {x}\") # O(1)\n",
        "      break\n",
        "  return contador\n",
        "# O(2 + n)\n",
        "# O(n)\n",
        "\n",
        "numeros = [2,3,1,23,24,25,10,100,35,8]\n",
        "comparaciones = busqueda_lineal(numeros, 10)\n",
        "print(f\"{comparaciones} comparaciones\")"
      ],
      "execution_count": 5,
      "outputs": [
        {
          "output_type": "stream",
          "name": "stdout",
          "text": [
            "Encontrado en la posicion 6\n",
            "7 comparaciones\n"
          ]
        }
      ]
    },
    {
      "cell_type": "markdown",
      "metadata": {
        "id": "FyjOPJqY6Gf4"
      },
      "source": [
        "# Reglas para simplificar la Big O\n",
        "- Regla 1: Concentrarse en la escalabilidad\n",
        "- Regla 2: Analizar el peor escenario.\n",
        "- Regla 3: Eliminar todas las posibles constantes.\n",
        "- Regla 4: Considerar diferentes variables de entrada.\n",
        "- Regla 5: Eliminar todas las complejidades no dominantes."
      ]
    }
  ]
}