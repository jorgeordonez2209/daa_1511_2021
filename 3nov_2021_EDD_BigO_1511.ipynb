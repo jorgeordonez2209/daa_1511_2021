{
  "nbformat": 4,
  "nbformat_minor": 0,
  "metadata": {
    "colab": {
      "name": "EDD_BigO_1511.ipynb",
      "provenance": [],
      "authorship_tag": "ABX9TyOaO959AHhhGGlq7Y58ISgp",
      "include_colab_link": true
    },
    "kernelspec": {
      "name": "python3",
      "display_name": "Python 3"
    },
    "language_info": {
      "name": "python"
    }
  },
  "cells": [
    {
      "cell_type": "markdown",
      "metadata": {
        "id": "view-in-github",
        "colab_type": "text"
      },
      "source": [
        "<a href=\"https://colab.research.google.com/github/jorgeordonez2209/daa_1511_2021/blob/main/3nov_2021_EDD_BigO_1511.ipynb\" target=\"_parent\"><img src=\"https://colab.research.google.com/assets/colab-badge.svg\" alt=\"Open In Colab\"/></a>"
      ]
    },
    {
      "cell_type": "markdown",
      "metadata": {
        "id": "Bf9OOqyAElyu"
      },
      "source": [
        "# Árbol binario\n",
        "\n",
        "# Árbol binario de busqueda "
      ]
    },
    {
      "cell_type": "code",
      "metadata": {
        "id": "inJmVIEEKyZn"
      },
      "source": [
        "class NodoArbol:\n",
        "  def __init__(self, value, left = None, rigth= None):\n",
        "    self.data = value\n",
        "    self.left = left\n",
        "    self.rigth = rigth\n",
        "\n",
        "class ArbolBB:\n",
        "  def __init__(self):\n",
        "    self.__root = None\n",
        "  \n",
        "  def insert(self, value):\n",
        "    if self.__root == None:\n",
        "      self.__root = NodoArbol(value)\n",
        "    else:\n",
        "      self.__insert_nodo__(self.__root, value) \n",
        "\n",
        "  def __insert_nodo__(self, nodo, value):\n",
        "    if nodo.data == value:\n",
        "      print(f\"Ya existe {value}\")\n",
        "      pass\n",
        "    elif value < nodo.data:\n",
        "      if nodo.left == None:\n",
        "        nodo.left = NodoArbol(value)\n",
        "      else: \n",
        "        self.__insert_nodo__(nodo.left, value)\n",
        "    else:\n",
        "      if nodo.rigth == None:\n",
        "        nodo.rigth = NodoArbol(value)\n",
        "      else: \n",
        "        self.__insert_nodo__(nodo.rigth, value)\n",
        "\n",
        "  # preorden posorden\n",
        "  def transversal(self, formato=\"inorden\"):\n",
        "    if formato ==\"inorden\":\n",
        "      print(\"InOrden\")\n",
        "      self.recorrido_in(self.__root)\n",
        "    elif formato == \"preorden\":\n",
        "      print(\"Preorden\")\n",
        "      self.recorrido_pre(self.__root)\n",
        "    else: #post\n",
        "      print(\"Pos orden\")\n",
        "      self.recorrido_pos(self.__root)\n",
        "\n",
        "  def recorrido_in(self, nodo):\n",
        "    if nodo != None:\n",
        "      self.recorrido_in(nodo.left)\n",
        "      print(nodo.data, end = \"  \") #end = \" \" para eliminar salto de linea\n",
        "      self.recorrido_in(nodo.rigth)\n",
        "\n",
        "  def recorrido_pre(self, nodo):\n",
        "    if nodo != None:\n",
        "      print(nodo.data, end = \"  \") #end = \" \" para eliminar salto de linea\n",
        "      self.recorrido_pre(nodo.left)\n",
        "      self.recorrido_pre(nodo.rigth)\n",
        "\n",
        "  def recorrido_pos(self, nodo):\n",
        "    if nodo != None:\n",
        "      self.recorrido_pos(nodo.left)\n",
        "      self.recorrido_pos(nodo.rigth)\n",
        "      print(nodo.data, end = \"  \") #end = \" \" para eliminar salto de linea\n",
        "\n",
        "  def buscar(self, value):\n",
        "    if self.__root == None:\n",
        "      print(\"Árbol vacío\")\n",
        "      return None\n",
        "    else:\n",
        "      return self.busca_nodo(self.__root, value)\n",
        "\n",
        "  def busca_nodo(self, nodo, value):\n",
        "    if nodo == None:\n",
        "      print(\"No existe\")\n",
        "      return None\n",
        "    elif nodo.data == value:\n",
        "      print(\"Encontrado\", nodo.data)\n",
        "      return nodo\n",
        "    elif value < nodo.data:\n",
        "      print(\"Buscar del lado izq\")\n",
        "      return self.busca_nodo(nodo.left, value)\n",
        "    else: \n",
        "      print(\"Buscar lado derecho\")\n",
        "      return self.busca_nodo(nodo.rigth, value)\n",
        "    "
      ],
      "execution_count": 17,
      "outputs": []
    },
    {
      "cell_type": "code",
      "metadata": {
        "colab": {
          "base_uri": "https://localhost:8080/"
        },
        "id": "oDY8aUmfbDPe",
        "outputId": "cf111aac-968e-4046-f864-e3366d257578"
      },
      "source": [
        "abb = ArbolBB()\n",
        "\n",
        "abb.insert(50)\n",
        "abb.insert(25)\n",
        "abb.insert(30)\n",
        "abb.insert(10)\n",
        "abb.insert(60)\n",
        "abb.insert(5)\n",
        "abb.insert(15)\n",
        "abb.insert(28)\n",
        "abb.insert(31)\n",
        "\n",
        "\"\"\"\n",
        "abb.insert(6)\n",
        "abb.insert(3)\n",
        "abb.insert(8)\n",
        "\"\"\"\n",
        "abb.transversal(\"inorden\")\n",
        "print(\"\")\n",
        "abb.transversal(\"preorden\")\n",
        "print(\"\")\n",
        "abb.transversal(\"\")\n",
        "print(\"\")\n",
        "res = abb.buscar(15)\n",
        "\n",
        "print(\"Resultado: \", res.left)\n",
        "print(\"Resultado: \", res.rigth)\n"
      ],
      "execution_count": 23,
      "outputs": [
        {
          "output_type": "stream",
          "name": "stdout",
          "text": [
            "InOrden\n",
            "5  10  15  25  28  30  31  50  60  \n",
            "Preorden\n",
            "50  25  10  5  15  30  28  31  60  \n",
            "Pos orden\n",
            "5  15  10  28  31  30  25  60  50  \n",
            "Buscar del lado izq\n",
            "Buscar del lado izq\n",
            "Buscar lado derecho\n",
            "Encontrado 15\n",
            "Resultado:  None\n",
            "Resultado:  None\n"
          ]
        }
      ]
    },
    {
      "cell_type": "code",
      "metadata": {
        "colab": {
          "base_uri": "https://localhost:8080/"
        },
        "id": "ACoKYfw4MUwe",
        "outputId": "3578c094-6f6a-4f5f-8329-03198af177ce"
      },
      "source": [
        "raiz = NodoArbol(60, None, None)\n",
        "raiz.left = NodoArbol(40, None, None)\n",
        "print(raiz.left.data)\n",
        "\n",
        "# lo mismo\n",
        "raiz = NodoArbol(60, NodoArbol(40), None)\n",
        "print(raiz.left.data)\n",
        "\n",
        "raiz = NodoArbol(60, NodoArbol(40, NodoArbol(30)), NodoArbol(70))\n",
        "print(raiz.left.left.data)\n",
        "\n",
        "# imprimir el hijo mas a la izquierda\n",
        "print(\"imprimir reccoriendo la rama izq\")\n",
        "curr_node = raiz\n",
        "while curr_node.left != None:\n",
        "  curr_node =curr_node.left\n",
        "print(curr_node.data)\n"
      ],
      "execution_count": null,
      "outputs": [
        {
          "output_type": "stream",
          "name": "stdout",
          "text": [
            "40\n",
            "40\n",
            "30\n",
            "imprimir reccoriendo la rama izq\n",
            "30\n"
          ]
        }
      ]
    }
  ]
}